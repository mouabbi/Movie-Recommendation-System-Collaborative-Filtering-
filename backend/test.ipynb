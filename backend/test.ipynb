{
 "cells": [
  {
   "cell_type": "code",
   "execution_count": 1,
   "metadata": {},
   "outputs": [],
   "source": [
    "import os\n",
    "# Set the directory to your desired path\n",
    "os.chdir(r'C:\\Users\\user\\Desktop\\Movie raccomender\\backend')\n",
    "from app.api.controllers.MLController import MLController"
   ]
  },
  {
   "cell_type": "code",
   "execution_count": 2,
   "metadata": {},
   "outputs": [],
   "source": [
    "mlcontroller= MLController()"
   ]
  },
  {
   "cell_type": "code",
   "execution_count": 6,
   "metadata": {},
   "outputs": [
    {
     "data": {
      "text/plain": [
       "[356,\n",
       " 69122,\n",
       " 64614,\n",
       " 127098,\n",
       " 1682,\n",
       " 63131,\n",
       " 85342,\n",
       " 139642,\n",
       " 95843,\n",
       " 105504,\n",
       " 116797,\n",
       " 140523,\n",
       " 58303,\n",
       " 4993,\n",
       " 134130,\n",
       " 5328,\n",
       " 89745,\n",
       " 122904,\n",
       " 187717,\n",
       " 4995,\n",
       " 3941,\n",
       " 67734,\n",
       " 80463,\n",
       " 2959,\n",
       " 48780,\n",
       " 79592,\n",
       " 60885,\n",
       " 7153,\n",
       " 107348,\n",
       " 6983,\n",
       " 2571]"
      ]
     },
     "execution_count": 6,
     "metadata": {},
     "output_type": "execute_result"
    }
   ],
   "source": [
    "mlcontroller.recommend_for_old_user(user_id=2)"
   ]
  }
 ],
 "metadata": {
  "kernelspec": {
   "display_name": "Python 3",
   "language": "python",
   "name": "python3"
  },
  "language_info": {
   "codemirror_mode": {
    "name": "ipython",
    "version": 3
   },
   "file_extension": ".py",
   "mimetype": "text/x-python",
   "name": "python",
   "nbconvert_exporter": "python",
   "pygments_lexer": "ipython3",
   "version": "3.12.6"
  }
 },
 "nbformat": 4,
 "nbformat_minor": 2
}
